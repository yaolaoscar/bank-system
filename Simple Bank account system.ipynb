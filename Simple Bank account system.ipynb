{
 "cells": [
  {
   "cell_type": "code",
   "execution_count": 4,
   "id": "99fad50f-40e3-4eb2-93a0-6f14f68cee77",
   "metadata": {},
   "outputs": [
    {
     "name": "stdout",
     "output_type": "stream",
     "text": [
      "Deposited 50. New balance is 150.0\n",
      "withdrew 150.New balance is0.0\n",
      "current balance:0.0\n"
     ]
    }
   ],
   "source": [
    "class BankAccount:\n",
    "    def __init__(self,account_holder,balance=0.0):\n",
    "        self.account_holder=account_holder #Attribute stores account holder's name\n",
    "        self.balance=balance #Attribute to store the current balance\n",
    "        \n",
    "    def deposit(self,amount):\n",
    "        self.balance+=amount #method to deposit money\n",
    "        print(f\"Deposited {amount}. New balance is {self.balance}\")\n",
    "\n",
    "    def withdraw(self, amount):\n",
    "        if amount<=self.balance:\n",
    "            self.balance-=amount #method to withdraw money\n",
    "            print(f\"withdrew {amount}.New balance is{self.balance}\")\n",
    "        else:\n",
    "            print(\"insufficient funds!!\")\n",
    "    def get_balance(self):\n",
    "        return self.balance #method to return the current balance\n",
    "\n",
    "#creating an object of bank account class\n",
    "account=BankAccount(\"John Doe\",100.0)\n",
    "\n",
    "#using methods to interact with the object\n",
    "account.deposit(50)\n",
    "account.withdraw(150)\n",
    "print(f\"current balance:{account.get_balance()}\")\n",
    "        \n",
    "    \n",
    "    "
   ]
  },
  {
   "cell_type": "code",
   "execution_count": 8,
   "id": "1d47079e-e9ee-4a2b-bed0-24946b7ea768",
   "metadata": {},
   "outputs": [
    {
     "name": "stdout",
     "output_type": "stream",
     "text": [
      "Deposited 500. New balance is 1500.0\n",
      "Deposited 30.0. New balance is 1530.0\n",
      "Applied interest: 30.0\n",
      "currentbalance: 1530.0\n"
     ]
    }
   ],
   "source": [
    "#inheritance example: creating a savings account\n",
    "class SavingsAccount(BankAccount):\n",
    "    def __init__(self, account_holder, balance=0.0, interest_rate=0.02):\n",
    "        super().__init__(account_holder, balance) #inherit from BankAccount\n",
    "        self.interest_rate=interest_rate #Additional attribute for interest rate\n",
    "\n",
    "    def apply_interest(self):\n",
    "        interest=self.balance*self.interest_rate\n",
    "        self.deposit(interest)\n",
    "        print(f\"Applied interest: {interest}\")\n",
    "\n",
    "#creating an object of saving account class\n",
    "savings_account=SavingsAccount(\"John Doe\", 1000.0)\n",
    "\n",
    "#Using inherited and new methods\n",
    "savings_account.deposit(500)\n",
    "savings_account.apply_interest()\n",
    "print(f\"currentbalance: {savings_account.get_balance()}\")"
   ]
  },
  {
   "cell_type": "code",
   "execution_count": null,
   "id": "342af72e-e963-47d3-9b2a-8c3cc7c800dc",
   "metadata": {},
   "outputs": [],
   "source": []
  },
  {
   "cell_type": "code",
   "execution_count": null,
   "id": "88e8dc86-aea7-4d49-b87a-df28afc80d86",
   "metadata": {},
   "outputs": [],
   "source": []
  }
 ],
 "metadata": {
  "kernelspec": {
   "display_name": "Python 3 (ipykernel)",
   "language": "python",
   "name": "python3"
  },
  "language_info": {
   "codemirror_mode": {
    "name": "ipython",
    "version": 3
   },
   "file_extension": ".py",
   "mimetype": "text/x-python",
   "name": "python",
   "nbconvert_exporter": "python",
   "pygments_lexer": "ipython3",
   "version": "3.11.7"
  }
 },
 "nbformat": 4,
 "nbformat_minor": 5
}
